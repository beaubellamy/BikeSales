{
 "cells": [
  {
   "cell_type": "markdown",
   "metadata": {},
   "source": [
    "# BikeSales Modelling"
   ]
  },
  {
   "cell_type": "code",
   "execution_count": 2,
   "metadata": {},
   "outputs": [],
   "source": [
    "import numpy as np\n",
    "import pandas as pd\n",
    "from datetime import datetime\n",
    "import matplotlib.pyplot as plt\n",
    "import seaborn as sns\n",
    "%matplotlib inline\n",
    "\n",
    "sns.set()\n",
    "import warnings\n",
    "warnings.filterwarnings('ignore')\n",
    "\n"
   ]
  },
  {
   "cell_type": "code",
   "execution_count": 4,
   "metadata": {},
   "outputs": [
    {
     "data": {
      "text/html": [
       "<div>\n",
       "<style scoped>\n",
       "    .dataframe tbody tr th:only-of-type {\n",
       "        vertical-align: middle;\n",
       "    }\n",
       "\n",
       "    .dataframe tbody tr th {\n",
       "        vertical-align: top;\n",
       "    }\n",
       "\n",
       "    .dataframe thead th {\n",
       "        text-align: right;\n",
       "    }\n",
       "</style>\n",
       "<table border=\"1\" class=\"dataframe\">\n",
       "  <thead>\n",
       "    <tr style=\"text-align: right;\">\n",
       "      <th></th>\n",
       "      <th>ABS</th>\n",
       "      <th>Adjustable_Seat</th>\n",
       "      <th>Bike</th>\n",
       "      <th>Body</th>\n",
       "      <th>Bore</th>\n",
       "      <th>Cam_Type</th>\n",
       "      <th>Carburettor</th>\n",
       "      <th>Carburettor(s)</th>\n",
       "      <th>Charging_Method</th>\n",
       "      <th>Clutch_Type</th>\n",
       "      <th>...</th>\n",
       "      <th>Wheel_Type</th>\n",
       "      <th>Wheelbase</th>\n",
       "      <th>Width</th>\n",
       "      <th>Windscreen</th>\n",
       "      <th>Release_Year</th>\n",
       "      <th>Seller</th>\n",
       "      <th>Brand</th>\n",
       "      <th>Model</th>\n",
       "      <th>Age</th>\n",
       "      <th>Time_to_Sale</th>\n",
       "    </tr>\n",
       "  </thead>\n",
       "  <tbody>\n",
       "    <tr>\n",
       "      <th>0</th>\n",
       "      <td>No</td>\n",
       "      <td>No</td>\n",
       "      <td>Kuda Pro 250</td>\n",
       "      <td>Adventure Touring</td>\n",
       "      <td>62.000</td>\n",
       "      <td>SOHC (Single Over Head Cam)</td>\n",
       "      <td>Electronic fuel injection</td>\n",
       "      <td>1.0</td>\n",
       "      <td>Alternator &amp; Regulator-Rectifier</td>\n",
       "      <td>Multi plate</td>\n",
       "      <td>...</td>\n",
       "      <td>Other</td>\n",
       "      <td>1480.0</td>\n",
       "      <td>860.000</td>\n",
       "      <td>Standard</td>\n",
       "      <td>2009</td>\n",
       "      <td>Private</td>\n",
       "      <td>Atomik</td>\n",
       "      <td>Kuda pro 250</td>\n",
       "      <td>10</td>\n",
       "      <td>43.0</td>\n",
       "    </tr>\n",
       "    <tr>\n",
       "      <th>1</th>\n",
       "      <td>No</td>\n",
       "      <td>No</td>\n",
       "      <td>250 R Road Manual 5sp 250cc</td>\n",
       "      <td>Super Sport</td>\n",
       "      <td>77.000</td>\n",
       "      <td>SOHC (Single Over Head Cam)</td>\n",
       "      <td>Electronic fuel injection</td>\n",
       "      <td>1.0</td>\n",
       "      <td>Engine</td>\n",
       "      <td>Multi plate</td>\n",
       "      <td>...</td>\n",
       "      <td>9-Spoke</td>\n",
       "      <td>1350.0</td>\n",
       "      <td>818.262</td>\n",
       "      <td>Standard</td>\n",
       "      <td>2013</td>\n",
       "      <td>Private</td>\n",
       "      <td>Megelli</td>\n",
       "      <td>250 r</td>\n",
       "      <td>6</td>\n",
       "      <td>43.0</td>\n",
       "    </tr>\n",
       "    <tr>\n",
       "      <th>2</th>\n",
       "      <td>No</td>\n",
       "      <td>No</td>\n",
       "      <td>GN250</td>\n",
       "      <td>Naked</td>\n",
       "      <td>72.000</td>\n",
       "      <td>SOHC (Single Over Head Cam)</td>\n",
       "      <td>Electronic fuel injection</td>\n",
       "      <td>1.0</td>\n",
       "      <td>Engine</td>\n",
       "      <td>Multi plate</td>\n",
       "      <td>...</td>\n",
       "      <td>Laced</td>\n",
       "      <td>1504.0</td>\n",
       "      <td>818.500</td>\n",
       "      <td>Standard</td>\n",
       "      <td>1991</td>\n",
       "      <td>Private</td>\n",
       "      <td>Suzuki</td>\n",
       "      <td>Gn250</td>\n",
       "      <td>28</td>\n",
       "      <td>43.0</td>\n",
       "    </tr>\n",
       "    <tr>\n",
       "      <th>3</th>\n",
       "      <td>No</td>\n",
       "      <td>No</td>\n",
       "      <td>GSX1100 ESD Road Manual 5sp 1100cc</td>\n",
       "      <td>Sport Touring</td>\n",
       "      <td>74.319</td>\n",
       "      <td>DOHC (Double Over Head Cam)</td>\n",
       "      <td>Constant velocity</td>\n",
       "      <td>4.0</td>\n",
       "      <td>Engine</td>\n",
       "      <td>Multi plate</td>\n",
       "      <td>...</td>\n",
       "      <td>Laced</td>\n",
       "      <td>1439.0</td>\n",
       "      <td>769.659</td>\n",
       "      <td>Standard</td>\n",
       "      <td>1984</td>\n",
       "      <td>Private</td>\n",
       "      <td>Suzuki</td>\n",
       "      <td>Gsx1100 esd</td>\n",
       "      <td>35</td>\n",
       "      <td>43.0</td>\n",
       "    </tr>\n",
       "    <tr>\n",
       "      <th>4</th>\n",
       "      <td>No</td>\n",
       "      <td>No</td>\n",
       "      <td>TS250 Trail Manual 5sp 250cc</td>\n",
       "      <td>Trail</td>\n",
       "      <td>81.500</td>\n",
       "      <td>Reed Valve</td>\n",
       "      <td>Electronic fuel injection</td>\n",
       "      <td>1.0</td>\n",
       "      <td>Engine</td>\n",
       "      <td>Multi plate</td>\n",
       "      <td>...</td>\n",
       "      <td>Laced</td>\n",
       "      <td>1400.0</td>\n",
       "      <td>818.262</td>\n",
       "      <td>Standard</td>\n",
       "      <td>1976</td>\n",
       "      <td>Private</td>\n",
       "      <td>Suzuki</td>\n",
       "      <td>Ts250</td>\n",
       "      <td>43</td>\n",
       "      <td>0.0</td>\n",
       "    </tr>\n",
       "  </tbody>\n",
       "</table>\n",
       "<p>5 rows × 95 columns</p>\n",
       "</div>"
      ],
      "text/plain": [
       "  ABS Adjustable_Seat                                Bike               Body  \\\n",
       "0  No              No                        Kuda Pro 250  Adventure Touring   \n",
       "1  No              No         250 R Road Manual 5sp 250cc        Super Sport   \n",
       "2  No              No                               GN250              Naked   \n",
       "3  No              No  GSX1100 ESD Road Manual 5sp 1100cc      Sport Touring   \n",
       "4  No              No        TS250 Trail Manual 5sp 250cc              Trail   \n",
       "\n",
       "     Bore                     Cam_Type                Carburettor  \\\n",
       "0  62.000  SOHC (Single Over Head Cam)  Electronic fuel injection   \n",
       "1  77.000  SOHC (Single Over Head Cam)  Electronic fuel injection   \n",
       "2  72.000  SOHC (Single Over Head Cam)  Electronic fuel injection   \n",
       "3  74.319  DOHC (Double Over Head Cam)          Constant velocity   \n",
       "4  81.500                   Reed Valve  Electronic fuel injection   \n",
       "\n",
       "   Carburettor(s)                   Charging_Method  Clutch_Type  \\\n",
       "0             1.0  Alternator & Regulator-Rectifier  Multi plate   \n",
       "1             1.0                            Engine  Multi plate   \n",
       "2             1.0                            Engine  Multi plate   \n",
       "3             4.0                            Engine  Multi plate   \n",
       "4             1.0                            Engine  Multi plate   \n",
       "\n",
       "       ...      Wheel_Type  Wheelbase    Width Windscreen  Release_Year  \\\n",
       "0      ...           Other     1480.0  860.000   Standard          2009   \n",
       "1      ...         9-Spoke     1350.0  818.262   Standard          2013   \n",
       "2      ...           Laced     1504.0  818.500   Standard          1991   \n",
       "3      ...           Laced     1439.0  769.659   Standard          1984   \n",
       "4      ...           Laced     1400.0  818.262   Standard          1976   \n",
       "\n",
       "    Seller    Brand         Model Age  Time_to_Sale  \n",
       "0  Private   Atomik  Kuda pro 250  10          43.0  \n",
       "1  Private  Megelli         250 r   6          43.0  \n",
       "2  Private   Suzuki         Gn250  28          43.0  \n",
       "3  Private   Suzuki   Gsx1100 esd  35          43.0  \n",
       "4  Private   Suzuki         Ts250  43           0.0  \n",
       "\n",
       "[5 rows x 95 columns]"
      ]
     },
     "execution_count": 4,
     "metadata": {},
     "output_type": "execute_result"
    }
   ],
   "source": [
    "#Load the data and infer the date format for the date features\n",
    "\n",
    "df = pd.read_csv('Bikesales_Features.csv', \n",
    "                  parse_dates=['First_Seen','Last_Seen','Last_Modified'], \n",
    "                  infer_datetime_format=True)\n",
    "df.head()"
   ]
  },
  {
   "cell_type": "code",
   "execution_count": 13,
   "metadata": {},
   "outputs": [],
   "source": [
    "from sklearn.preprocessing import StandardScaler\n",
    "\n",
    "from sklearn.ensemble import RandomForestClassifier, RandomForestRegressor\n",
    "from sklearn.linear_model import LogisticRegression, LogisticRegressionCV\n",
    "from sklearn.linear_model import LassoCV, RidgeCV\n",
    "from sklearn.linear_model import LinearRegression\n",
    "\n",
    "from sklearn.model_selection import cross_val_score\n",
    "from sklearn.model_selection import train_test_split\n",
    "\n",
    "# Regression metrics\n",
    "from sklearn.metrics import explained_variance_score, mean_squared_error\n",
    "from sklearn.metrics import mean_absolute_error, r2_score\n",
    "\n",
    "from sklearn import metrics\n",
    "from sklearn.metrics import accuracy_score\n",
    "from sklearn.metrics import classification_report\n"
   ]
  },
  {
   "cell_type": "code",
   "execution_count": 14,
   "metadata": {},
   "outputs": [],
   "source": [
    "def add_dummy_variables(df, categorical_features):\n",
    "    \n",
    "    additional = pd.get_dummies(df[categorical_features])\n",
    "    df[additional.columns] = additional\n",
    "    return df.drop(categorical_features, axis=1)\n",
    "\n",
    "def feature_plot(model,X,top=10):\n",
    "    \n",
    "    feats_imp = pd.DataFrame(model.feature_importances_, index=X.columns, columns=['FeatureImportance'])\n",
    "    feats_imp = feats_imp.sort_values('FeatureImportance', ascending=False)[:top]\n",
    "\n",
    "    feats_imp.plot(kind='barh', figsize=(12,6), legend=False)\n",
    "    plt.title('Feature Importance from XgBoost Classifier')\n",
    "    sns.despine(left=True, bottom=True)\n",
    "    plt.gca().invert_yaxis()\n",
    "    \n",
    "def plot_accuracy_predictions(y_test, pred):\n",
    "    fig, ax = plt.subplots(figsize=(12,10))\n",
    "    ax.scatter(y_test,pred)\n",
    "    ax.plot([y_test(), y_test.max()], [y_test.min(), y_test.max()], 'r--', lw=0.8)\n",
    "    ax.set_xlabel('Measured');\n",
    "    ax.set_ylabel('Predicted');\n",
    "    ax.set_title('Accuracy of Predictions');\n",
    "    "
   ]
  },
  {
   "cell_type": "code",
   "execution_count": 15,
   "metadata": {},
   "outputs": [
    {
     "data": {
      "text/plain": [
       "(5343, 40)"
      ]
     },
     "execution_count": 15,
     "metadata": {},
     "output_type": "execute_result"
    }
   ],
   "source": [
    "sport = df[df['Body'].str.contains('Sport') == True]\n",
    "sport_numbers = sport.select_dtypes(include='number')\n",
    "sport_numbers.shape\n"
   ]
  },
  {
   "cell_type": "code",
   "execution_count": 16,
   "metadata": {},
   "outputs": [],
   "source": [
    "numerical_features = list(df.select_dtypes(include='number').columns)\n",
    "#categorical_features = list(df.select_dtypes(exclude='number').columns)\n",
    "\n",
    "# categorical_features = ['Bike', 'Body', 'Colour', 'Cooling', 'Country_of_Origin', \n",
    "#                         'Engine_Config', 'Fuel_Type', 'State', 'Suburb', 'Seller', \n",
    "#                         'Brand', 'Model'] \n",
    "\n",
    "categorical_features = ['Bike', 'Body', 'Brand', 'Model', 'Seller']"
   ]
  },
  {
   "cell_type": "code",
   "execution_count": 17,
   "metadata": {},
   "outputs": [],
   "source": [
    "#sport = add_dummy_variables(sport, categorical_features)"
   ]
  },
  {
   "cell_type": "code",
   "execution_count": 18,
   "metadata": {},
   "outputs": [],
   "source": [
    "\n",
    "target = 'Price'\n",
    "features = list(set(sport_numbers.columns) - set([target]))\n",
    "\n",
    "sc = StandardScaler()\n",
    "sc.fit(sport_numbers)\n",
    "s = sc.transform(sport_numbers)\n",
    "scaleSport = pd.DataFrame(s,columns=sport_numbers.columns)\n",
    "\n",
    "X = scaleSport[features]\n",
    "y = scaleSport[target]\n",
    "\n",
    "\n",
    "X_train, X_test, y_train, y_test = train_test_split(X, y, random_state=1)\n"
   ]
  },
  {
   "cell_type": "code",
   "execution_count": null,
   "metadata": {},
   "outputs": [],
   "source": []
  },
  {
   "cell_type": "code",
   "execution_count": 20,
   "metadata": {},
   "outputs": [],
   "source": [
    "model = LassoCV()\n",
    "model.fit(X_train, y_train)\n",
    "\n",
    "pred = model.predict(X_test)\n"
   ]
  },
  {
   "cell_type": "code",
   "execution_count": 21,
   "metadata": {},
   "outputs": [
    {
     "name": "stdout",
     "output_type": "stream",
     "text": [
      "Traininng Score: 0.5535575578342427\n",
      "Testing Score: 0.5137986321554682\n",
      "Data Score 0.5434195394878047\n",
      "Mean Squared Error: 0.4958080597069517\n"
     ]
    }
   ],
   "source": [
    "print ('Traininng Score:',model.score(X_train,y_train))\n",
    "print ('Testing Score:',model.score(X_test,y_test))\n",
    "print ('Data Score',model.score(X,y))\n",
    "print ('Mean Squared Error:',mean_squared_error(y_test,pred))\n",
    "\n",
    "\n"
   ]
  },
  {
   "cell_type": "code",
   "execution_count": 24,
   "metadata": {},
   "outputs": [
    {
     "data": {
      "text/plain": [
       "LassoCV(alphas=None, copy_X=True, cv='warn', eps=0.001, fit_intercept=True,\n",
       "    max_iter=1000, n_alphas=100, n_jobs=None, normalize=False,\n",
       "    positive=False, precompute='auto', random_state=None,\n",
       "    selection='cyclic', tol=0.0001, verbose=False)"
      ]
     },
     "execution_count": 24,
     "metadata": {},
     "output_type": "execute_result"
    }
   ],
   "source": [
    "model"
   ]
  },
  {
   "cell_type": "code",
   "execution_count": null,
   "metadata": {},
   "outputs": [],
   "source": []
  }
 ],
 "metadata": {
  "kernelspec": {
   "display_name": "Python 3",
   "language": "python",
   "name": "python3"
  },
  "language_info": {
   "codemirror_mode": {
    "name": "ipython",
    "version": 3
   },
   "file_extension": ".py",
   "mimetype": "text/x-python",
   "name": "python",
   "nbconvert_exporter": "python",
   "pygments_lexer": "ipython3",
   "version": "3.7.1"
  }
 },
 "nbformat": 4,
 "nbformat_minor": 2
}
