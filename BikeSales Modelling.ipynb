{
 "cells": [
  {
   "cell_type": "markdown",
   "metadata": {
    "hideCode": false,
    "hidePrompt": false
   },
   "source": [
    "# BikeSales Modelling"
   ]
  },
  {
   "cell_type": "code",
   "execution_count": 230,
   "metadata": {
    "hideCode": false,
    "hidePrompt": false
   },
   "outputs": [],
   "source": [
    "import numpy as np\n",
    "import pandas as pd\n",
    "from datetime import datetime\n",
    "import matplotlib.pyplot as plt\n",
    "import seaborn as sns\n",
    "%matplotlib inline\n",
    "\n",
    "sns.set()\n",
    "import warnings\n",
    "warnings.filterwarnings('ignore')\n",
    "\n"
   ]
  },
  {
   "cell_type": "code",
   "execution_count": 231,
   "metadata": {
    "hideCode": false,
    "hidePrompt": false
   },
   "outputs": [],
   "source": [
    "#Load the data and infer the date format for the date features\n",
    "\n",
    "df = pd.read_csv('clean_sport2.csv', \n",
    "                  parse_dates=['First_Seen','Last_Seen','Last_Modified'], \n",
    "                  infer_datetime_format=True)\n",
    "df.head()\n",
    "sport = df"
   ]
  },
  {
   "cell_type": "code",
   "execution_count": 232,
   "metadata": {
    "hideCode": false,
    "hidePrompt": false
   },
   "outputs": [],
   "source": [
    "# sport.drop(['Body','Drive_Type','Fuel_Type','Gear_Change_Method','Gear_Type',\n",
    "#             'Network_ID','Registration_Plate','URL','Windscreen'], axis=1, inplace=True)\n",
    "\n",
    "# SELECT INDIVIDUAL FEATURES - we want to simplify the model"
   ]
  },
  {
   "cell_type": "code",
   "execution_count": 233,
   "metadata": {
    "hideCode": false,
    "hidePrompt": false
   },
   "outputs": [],
   "source": [
    "from sklearn.preprocessing import StandardScaler\n",
    "\n",
    "from sklearn.ensemble import RandomForestClassifier, RandomForestRegressor\n",
    "from sklearn.linear_model import LogisticRegression, LogisticRegressionCV\n",
    "from sklearn.linear_model import LassoCV, RidgeCV\n",
    "from sklearn.linear_model import PassiveAggressiveRegressor\n",
    "from sklearn.ensemble import BaggingRegressor\n",
    "from sklearn.svm import SVR\n",
    "\n",
    "from sklearn.model_selection import cross_val_score\n",
    "from sklearn.model_selection import train_test_split\n",
    "\n",
    "# Regression metrics\n",
    "from sklearn.metrics import explained_variance_score, mean_squared_error\n",
    "from sklearn.metrics import mean_absolute_error, r2_score\n",
    "\n",
    "from sklearn import metrics\n",
    "from sklearn.metrics import accuracy_score\n",
    "from sklearn.metrics import classification_report\n"
   ]
  },
  {
   "cell_type": "code",
   "execution_count": 234,
   "metadata": {
    "hideCode": false,
    "hidePrompt": false
   },
   "outputs": [],
   "source": [
    "def add_dummy_variables(df, categorical_features):\n",
    "    \n",
    "    additional = pd.get_dummies(df[categorical_features])\n",
    "    df[additional.columns] = additional\n",
    "    return df.drop(categorical_features, axis=1)\n",
    "\n",
    "def feature_plot(model,X,top=10):\n",
    "    \n",
    "    feats_imp = pd.DataFrame(model.feature_importances_, index=X.columns, columns=['FeatureImportance'])\n",
    "    feats_imp = feats_imp.sort_values('FeatureImportance', ascending=False)[:top]\n",
    "\n",
    "    feats_imp.plot(kind='barh', figsize=(12,6), legend=False)\n",
    "    plt.title('Feature Importance from XgBoost Classifier')\n",
    "    sns.despine(left=True, bottom=True)\n",
    "    plt.gca().invert_yaxis()\n",
    "    \n",
    "def plot_accuracy_predictions(y_test, pred):\n",
    "    fig, ax = plt.subplots(figsize=(12,10))\n",
    "    ax.scatter(y_test,pred)\n",
    "    ax.plot([y_test(), y_test.max()], [y_test.min(), y_test.max()], 'r--', lw=0.8)\n",
    "    ax.set_xlabel('Measured');\n",
    "    ax.set_ylabel('Predicted');\n",
    "    ax.set_title('Accuracy of Predictions');\n",
    "    "
   ]
  },
  {
   "cell_type": "code",
   "execution_count": 235,
   "metadata": {
    "hideCode": false,
    "hidePrompt": false
   },
   "outputs": [
    {
     "name": "stdout",
     "output_type": "stream",
     "text": [
      "(2177, 76)\n",
      "(2177, 32)\n"
     ]
    }
   ],
   "source": [
    "print (sport.shape)\n",
    "sport_numbers = sport.select_dtypes(include='number')\n",
    "print (sport_numbers.shape)\n",
    "\n"
   ]
  },
  {
   "cell_type": "code",
   "execution_count": null,
   "metadata": {
    "hideCode": false,
    "hidePrompt": false
   },
   "outputs": [],
   "source": []
  },
  {
   "cell_type": "code",
   "execution_count": null,
   "metadata": {
    "hideCode": false,
    "hidePrompt": false
   },
   "outputs": [],
   "source": []
  },
  {
   "cell_type": "code",
   "execution_count": 236,
   "metadata": {
    "hideCode": false,
    "hidePrompt": false
   },
   "outputs": [
    {
     "data": {
      "text/html": [
       "<div>\n",
       "<style scoped>\n",
       "    .dataframe tbody tr th:only-of-type {\n",
       "        vertical-align: middle;\n",
       "    }\n",
       "\n",
       "    .dataframe tbody tr th {\n",
       "        vertical-align: top;\n",
       "    }\n",
       "\n",
       "    .dataframe thead th {\n",
       "        text-align: right;\n",
       "    }\n",
       "</style>\n",
       "<table border=\"1\" class=\"dataframe\">\n",
       "  <thead>\n",
       "    <tr style=\"text-align: right;\">\n",
       "      <th></th>\n",
       "      <th>Bore</th>\n",
       "      <th>Carburettor(s)</th>\n",
       "      <th>Compression_Ratio</th>\n",
       "      <th>Cylinders</th>\n",
       "      <th>Dry_Weight</th>\n",
       "      <th>Engine_Description</th>\n",
       "      <th>Front_Brake_Diameter</th>\n",
       "      <th>Front_Suspension_Travel</th>\n",
       "      <th>Fuel_Reserve_Capacity</th>\n",
       "      <th>Fuel_Tank_Capacity</th>\n",
       "      <th>...</th>\n",
       "      <th>Starter</th>\n",
       "      <th>State</th>\n",
       "      <th>Suburb</th>\n",
       "      <th>Swingarm_Type</th>\n",
       "      <th>Traction_Control</th>\n",
       "      <th>Warranty_KMs</th>\n",
       "      <th>Wheel_Type</th>\n",
       "      <th>Seller</th>\n",
       "      <th>Brand</th>\n",
       "      <th>Model</th>\n",
       "    </tr>\n",
       "  </thead>\n",
       "  <tbody>\n",
       "    <tr>\n",
       "      <th>0</th>\n",
       "      <td>62.0</td>\n",
       "      <td>2.0</td>\n",
       "      <td>11.0</td>\n",
       "      <td>2.0</td>\n",
       "      <td>152.0</td>\n",
       "      <td>250.0</td>\n",
       "      <td>290.0</td>\n",
       "      <td>120.0</td>\n",
       "      <td>3.459387</td>\n",
       "      <td>18.0</td>\n",
       "      <td>...</td>\n",
       "      <td>Electric</td>\n",
       "      <td>QLD</td>\n",
       "      <td>Ashgrove</td>\n",
       "      <td>Dual Sided</td>\n",
       "      <td>No</td>\n",
       "      <td>No</td>\n",
       "      <td>Spoke</td>\n",
       "      <td>Private</td>\n",
       "      <td>Kawasaki</td>\n",
       "      <td>Ninja 250r ex250j</td>\n",
       "    </tr>\n",
       "    <tr>\n",
       "      <th>1</th>\n",
       "      <td>62.0</td>\n",
       "      <td>2.0</td>\n",
       "      <td>11.0</td>\n",
       "      <td>2.0</td>\n",
       "      <td>129.0</td>\n",
       "      <td>250.0</td>\n",
       "      <td>290.0</td>\n",
       "      <td>120.0</td>\n",
       "      <td>3.459387</td>\n",
       "      <td>18.0</td>\n",
       "      <td>...</td>\n",
       "      <td>Electric</td>\n",
       "      <td>WA</td>\n",
       "      <td>South perth</td>\n",
       "      <td>Dual Sided</td>\n",
       "      <td>No</td>\n",
       "      <td>No</td>\n",
       "      <td>Spoke</td>\n",
       "      <td>Private</td>\n",
       "      <td>Kawasaki</td>\n",
       "      <td>Ninja 250r special edition</td>\n",
       "    </tr>\n",
       "    <tr>\n",
       "      <th>2</th>\n",
       "      <td>62.0</td>\n",
       "      <td>2.0</td>\n",
       "      <td>11.0</td>\n",
       "      <td>2.0</td>\n",
       "      <td>152.0</td>\n",
       "      <td>250.0</td>\n",
       "      <td>290.0</td>\n",
       "      <td>120.0</td>\n",
       "      <td>3.459387</td>\n",
       "      <td>18.0</td>\n",
       "      <td>...</td>\n",
       "      <td>Electric</td>\n",
       "      <td>QLD</td>\n",
       "      <td>Arana hills</td>\n",
       "      <td>Dual Sided</td>\n",
       "      <td>No</td>\n",
       "      <td>No</td>\n",
       "      <td>Spoke</td>\n",
       "      <td>Private</td>\n",
       "      <td>Kawasaki</td>\n",
       "      <td>Ninja 250r ex250j</td>\n",
       "    </tr>\n",
       "    <tr>\n",
       "      <th>3</th>\n",
       "      <td>62.0</td>\n",
       "      <td>2.0</td>\n",
       "      <td>11.0</td>\n",
       "      <td>2.0</td>\n",
       "      <td>152.0</td>\n",
       "      <td>250.0</td>\n",
       "      <td>290.0</td>\n",
       "      <td>120.0</td>\n",
       "      <td>3.459387</td>\n",
       "      <td>18.0</td>\n",
       "      <td>...</td>\n",
       "      <td>Electric</td>\n",
       "      <td>WA</td>\n",
       "      <td>none</td>\n",
       "      <td>Dual Sided</td>\n",
       "      <td>No</td>\n",
       "      <td>No</td>\n",
       "      <td>Spoke</td>\n",
       "      <td>Dealer</td>\n",
       "      <td>Kawasaki</td>\n",
       "      <td>Ninja 250r ex250j</td>\n",
       "    </tr>\n",
       "    <tr>\n",
       "      <th>4</th>\n",
       "      <td>48.6</td>\n",
       "      <td>4.0</td>\n",
       "      <td>10.0</td>\n",
       "      <td>4.0</td>\n",
       "      <td>129.0</td>\n",
       "      <td>250.0</td>\n",
       "      <td>296.0</td>\n",
       "      <td>118.0</td>\n",
       "      <td>3.459387</td>\n",
       "      <td>13.0</td>\n",
       "      <td>...</td>\n",
       "      <td>Electric</td>\n",
       "      <td>WA</td>\n",
       "      <td>none</td>\n",
       "      <td>Dual Sided</td>\n",
       "      <td>No</td>\n",
       "      <td>No</td>\n",
       "      <td>Spoke</td>\n",
       "      <td>Dealer</td>\n",
       "      <td>Honda</td>\n",
       "      <td>Cbr250r</td>\n",
       "    </tr>\n",
       "  </tbody>\n",
       "</table>\n",
       "<p>5 rows × 76 columns</p>\n",
       "</div>"
      ],
      "text/plain": [
       "   Bore  Carburettor(s)  Compression_Ratio  Cylinders  Dry_Weight  \\\n",
       "0  62.0             2.0               11.0        2.0       152.0   \n",
       "1  62.0             2.0               11.0        2.0       129.0   \n",
       "2  62.0             2.0               11.0        2.0       152.0   \n",
       "3  62.0             2.0               11.0        2.0       152.0   \n",
       "4  48.6             4.0               10.0        4.0       129.0   \n",
       "\n",
       "   Engine_Description  Front_Brake_Diameter  Front_Suspension_Travel  \\\n",
       "0               250.0                 290.0                    120.0   \n",
       "1               250.0                 290.0                    120.0   \n",
       "2               250.0                 290.0                    120.0   \n",
       "3               250.0                 290.0                    120.0   \n",
       "4               250.0                 296.0                    118.0   \n",
       "\n",
       "   Fuel_Reserve_Capacity  Fuel_Tank_Capacity  ...   Starter  State  \\\n",
       "0               3.459387                18.0  ...  Electric    QLD   \n",
       "1               3.459387                18.0  ...  Electric     WA   \n",
       "2               3.459387                18.0  ...  Electric    QLD   \n",
       "3               3.459387                18.0  ...  Electric     WA   \n",
       "4               3.459387                13.0  ...  Electric     WA   \n",
       "\n",
       "        Suburb  Swingarm_Type  Traction_Control  Warranty_KMs  Wheel_Type  \\\n",
       "0     Ashgrove     Dual Sided                No            No       Spoke   \n",
       "1  South perth     Dual Sided                No            No       Spoke   \n",
       "2  Arana hills     Dual Sided                No            No       Spoke   \n",
       "3         none     Dual Sided                No            No       Spoke   \n",
       "4         none     Dual Sided                No            No       Spoke   \n",
       "\n",
       "    Seller     Brand                       Model  \n",
       "0  Private  Kawasaki           Ninja 250r ex250j  \n",
       "1  Private  Kawasaki  Ninja 250r special edition  \n",
       "2  Private  Kawasaki           Ninja 250r ex250j  \n",
       "3   Dealer  Kawasaki           Ninja 250r ex250j  \n",
       "4   Dealer     Honda                     Cbr250r  \n",
       "\n",
       "[5 rows x 76 columns]"
      ]
     },
     "execution_count": 236,
     "metadata": {},
     "output_type": "execute_result"
    }
   ],
   "source": [
    "sport.head()"
   ]
  },
  {
   "cell_type": "code",
   "execution_count": 237,
   "metadata": {
    "hideCode": false,
    "hidePrompt": false
   },
   "outputs": [],
   "source": [
    "numerical_features = list(df.select_dtypes(include='number').columns)\n",
    "categorical_features = list(df.select_dtypes(exclude='number').columns)\n",
    "\n",
    "# categorical_features = ['Bike', 'Body', 'Colour', 'Cooling', 'Country_of_Origin', \n",
    "#                         'Engine_Config', 'Fuel_Type', 'State', 'Suburb', 'Seller', \n",
    "#                         'Brand', 'Model'] \n",
    "\n",
    "#categorical_features = ['Bike', 'Body', 'Brand', 'Model', 'Seller']"
   ]
  },
  {
   "cell_type": "code",
   "execution_count": 238,
   "metadata": {
    "hideCode": false,
    "hidePrompt": false
   },
   "outputs": [],
   "source": [
    "sport = add_dummy_variables(sport, categorical_features)"
   ]
  },
  {
   "cell_type": "code",
   "execution_count": 239,
   "metadata": {
    "hideCode": false,
    "hidePrompt": false
   },
   "outputs": [
    {
     "data": {
      "text/html": [
       "<div>\n",
       "<style scoped>\n",
       "    .dataframe tbody tr th:only-of-type {\n",
       "        vertical-align: middle;\n",
       "    }\n",
       "\n",
       "    .dataframe tbody tr th {\n",
       "        vertical-align: top;\n",
       "    }\n",
       "\n",
       "    .dataframe thead th {\n",
       "        text-align: right;\n",
       "    }\n",
       "</style>\n",
       "<table border=\"1\" class=\"dataframe\">\n",
       "  <thead>\n",
       "    <tr style=\"text-align: right;\">\n",
       "      <th></th>\n",
       "      <th>Bore</th>\n",
       "      <th>Carburettor(s)</th>\n",
       "      <th>Compression_Ratio</th>\n",
       "      <th>Cylinders</th>\n",
       "      <th>Dry_Weight</th>\n",
       "      <th>Engine_Description</th>\n",
       "      <th>Front_Brake_Diameter</th>\n",
       "      <th>Front_Suspension_Travel</th>\n",
       "      <th>Fuel_Reserve_Capacity</th>\n",
       "      <th>Fuel_Tank_Capacity</th>\n",
       "      <th>...</th>\n",
       "      <th>Model_f4 1000 abs</th>\n",
       "      <th>Model_f4 1000s corse</th>\n",
       "      <th>Model_f4 312 r 1000</th>\n",
       "      <th>Model_f4 312 r 1000 11</th>\n",
       "      <th>Model_f4 750 s</th>\n",
       "      <th>Model_f4 750 s f4s 11</th>\n",
       "      <th>Model_f4 r</th>\n",
       "      <th>Model_f4 rr</th>\n",
       "      <th>Model_f4 rr 1000</th>\n",
       "      <th>Model_f4ago 1000</th>\n",
       "    </tr>\n",
       "  </thead>\n",
       "  <tbody>\n",
       "    <tr>\n",
       "      <th>0</th>\n",
       "      <td>62.0</td>\n",
       "      <td>2.0</td>\n",
       "      <td>11.0</td>\n",
       "      <td>2.0</td>\n",
       "      <td>152.0</td>\n",
       "      <td>250.0</td>\n",
       "      <td>290.0</td>\n",
       "      <td>120.0</td>\n",
       "      <td>3.459387</td>\n",
       "      <td>18.0</td>\n",
       "      <td>...</td>\n",
       "      <td>0</td>\n",
       "      <td>0</td>\n",
       "      <td>0</td>\n",
       "      <td>0</td>\n",
       "      <td>0</td>\n",
       "      <td>0</td>\n",
       "      <td>0</td>\n",
       "      <td>0</td>\n",
       "      <td>0</td>\n",
       "      <td>0</td>\n",
       "    </tr>\n",
       "    <tr>\n",
       "      <th>1</th>\n",
       "      <td>62.0</td>\n",
       "      <td>2.0</td>\n",
       "      <td>11.0</td>\n",
       "      <td>2.0</td>\n",
       "      <td>129.0</td>\n",
       "      <td>250.0</td>\n",
       "      <td>290.0</td>\n",
       "      <td>120.0</td>\n",
       "      <td>3.459387</td>\n",
       "      <td>18.0</td>\n",
       "      <td>...</td>\n",
       "      <td>0</td>\n",
       "      <td>0</td>\n",
       "      <td>0</td>\n",
       "      <td>0</td>\n",
       "      <td>0</td>\n",
       "      <td>0</td>\n",
       "      <td>0</td>\n",
       "      <td>0</td>\n",
       "      <td>0</td>\n",
       "      <td>0</td>\n",
       "    </tr>\n",
       "    <tr>\n",
       "      <th>2</th>\n",
       "      <td>62.0</td>\n",
       "      <td>2.0</td>\n",
       "      <td>11.0</td>\n",
       "      <td>2.0</td>\n",
       "      <td>152.0</td>\n",
       "      <td>250.0</td>\n",
       "      <td>290.0</td>\n",
       "      <td>120.0</td>\n",
       "      <td>3.459387</td>\n",
       "      <td>18.0</td>\n",
       "      <td>...</td>\n",
       "      <td>0</td>\n",
       "      <td>0</td>\n",
       "      <td>0</td>\n",
       "      <td>0</td>\n",
       "      <td>0</td>\n",
       "      <td>0</td>\n",
       "      <td>0</td>\n",
       "      <td>0</td>\n",
       "      <td>0</td>\n",
       "      <td>0</td>\n",
       "    </tr>\n",
       "    <tr>\n",
       "      <th>3</th>\n",
       "      <td>62.0</td>\n",
       "      <td>2.0</td>\n",
       "      <td>11.0</td>\n",
       "      <td>2.0</td>\n",
       "      <td>152.0</td>\n",
       "      <td>250.0</td>\n",
       "      <td>290.0</td>\n",
       "      <td>120.0</td>\n",
       "      <td>3.459387</td>\n",
       "      <td>18.0</td>\n",
       "      <td>...</td>\n",
       "      <td>0</td>\n",
       "      <td>0</td>\n",
       "      <td>0</td>\n",
       "      <td>0</td>\n",
       "      <td>0</td>\n",
       "      <td>0</td>\n",
       "      <td>0</td>\n",
       "      <td>0</td>\n",
       "      <td>0</td>\n",
       "      <td>0</td>\n",
       "    </tr>\n",
       "    <tr>\n",
       "      <th>4</th>\n",
       "      <td>48.6</td>\n",
       "      <td>4.0</td>\n",
       "      <td>10.0</td>\n",
       "      <td>4.0</td>\n",
       "      <td>129.0</td>\n",
       "      <td>250.0</td>\n",
       "      <td>296.0</td>\n",
       "      <td>118.0</td>\n",
       "      <td>3.459387</td>\n",
       "      <td>13.0</td>\n",
       "      <td>...</td>\n",
       "      <td>0</td>\n",
       "      <td>0</td>\n",
       "      <td>0</td>\n",
       "      <td>0</td>\n",
       "      <td>0</td>\n",
       "      <td>0</td>\n",
       "      <td>0</td>\n",
       "      <td>0</td>\n",
       "      <td>0</td>\n",
       "      <td>0</td>\n",
       "    </tr>\n",
       "  </tbody>\n",
       "</table>\n",
       "<p>5 rows × 1529 columns</p>\n",
       "</div>"
      ],
      "text/plain": [
       "   Bore  Carburettor(s)  Compression_Ratio  Cylinders  Dry_Weight  \\\n",
       "0  62.0             2.0               11.0        2.0       152.0   \n",
       "1  62.0             2.0               11.0        2.0       129.0   \n",
       "2  62.0             2.0               11.0        2.0       152.0   \n",
       "3  62.0             2.0               11.0        2.0       152.0   \n",
       "4  48.6             4.0               10.0        4.0       129.0   \n",
       "\n",
       "   Engine_Description  Front_Brake_Diameter  Front_Suspension_Travel  \\\n",
       "0               250.0                 290.0                    120.0   \n",
       "1               250.0                 290.0                    120.0   \n",
       "2               250.0                 290.0                    120.0   \n",
       "3               250.0                 290.0                    120.0   \n",
       "4               250.0                 296.0                    118.0   \n",
       "\n",
       "   Fuel_Reserve_Capacity  Fuel_Tank_Capacity  ...  Model_f4 1000 abs  \\\n",
       "0               3.459387                18.0  ...                  0   \n",
       "1               3.459387                18.0  ...                  0   \n",
       "2               3.459387                18.0  ...                  0   \n",
       "3               3.459387                18.0  ...                  0   \n",
       "4               3.459387                13.0  ...                  0   \n",
       "\n",
       "   Model_f4 1000s corse  Model_f4 312 r 1000  Model_f4 312 r 1000 11  \\\n",
       "0                     0                    0                       0   \n",
       "1                     0                    0                       0   \n",
       "2                     0                    0                       0   \n",
       "3                     0                    0                       0   \n",
       "4                     0                    0                       0   \n",
       "\n",
       "   Model_f4 750 s  Model_f4 750 s f4s 11  Model_f4 r  Model_f4 rr  \\\n",
       "0               0                      0           0            0   \n",
       "1               0                      0           0            0   \n",
       "2               0                      0           0            0   \n",
       "3               0                      0           0            0   \n",
       "4               0                      0           0            0   \n",
       "\n",
       "   Model_f4 rr 1000  Model_f4ago 1000  \n",
       "0                 0                 0  \n",
       "1                 0                 0  \n",
       "2                 0                 0  \n",
       "3                 0                 0  \n",
       "4                 0                 0  \n",
       "\n",
       "[5 rows x 1529 columns]"
      ]
     },
     "execution_count": 239,
     "metadata": {},
     "output_type": "execute_result"
    }
   ],
   "source": [
    "sport.head()"
   ]
  },
  {
   "cell_type": "code",
   "execution_count": 240,
   "metadata": {
    "hideCode": false,
    "hidePrompt": false
   },
   "outputs": [],
   "source": [
    "sport_df = sport.select_dtypes(include='number')\n",
    "\n",
    "target = 'Price'\n",
    "features = list(set(sport_df.columns) - set([target]))\n",
    "#features = ['Age']\n",
    "\n",
    "sc = StandardScaler()\n",
    "sc.fit(sport_df[features])\n",
    "s = sc.transform(sport_df[features])\n",
    "scaleSport = pd.DataFrame(s,columns=features)\n",
    "\n",
    "X = scaleSport[features]\n",
    "y = sport_df[target]\n",
    "\n",
    "\n",
    "#X_train, X_test, y_train, y_test = train_test_split(X, y, random_state=1)\n"
   ]
  },
  {
   "cell_type": "code",
   "execution_count": 241,
   "metadata": {
    "hideCode": false,
    "hidePrompt": false
   },
   "outputs": [
    {
     "data": {
      "text/html": [
       "<div>\n",
       "<style scoped>\n",
       "    .dataframe tbody tr th:only-of-type {\n",
       "        vertical-align: middle;\n",
       "    }\n",
       "\n",
       "    .dataframe tbody tr th {\n",
       "        vertical-align: top;\n",
       "    }\n",
       "\n",
       "    .dataframe thead th {\n",
       "        text-align: right;\n",
       "    }\n",
       "</style>\n",
       "<table border=\"1\" class=\"dataframe\">\n",
       "  <thead>\n",
       "    <tr style=\"text-align: right;\">\n",
       "      <th></th>\n",
       "      <th>Suburb_Narangba</th>\n",
       "      <th>Ignition_CD (Capacitor Discharge)</th>\n",
       "      <th>Wheel_Type_Spoke</th>\n",
       "      <th>Charging_Method_Engine</th>\n",
       "      <th>Bike_MY09</th>\n",
       "      <th>Suburb_Mount sheridan</th>\n",
       "      <th>Suburb_Piara waters</th>\n",
       "      <th>Suburb_Highton</th>\n",
       "      <th>Length</th>\n",
       "      <th>Model_Gsx r1000 30th anniversary edition</th>\n",
       "      <th>...</th>\n",
       "      <th>Suburb_Stirling</th>\n",
       "      <th>Model_f3 675 eas</th>\n",
       "      <th>Suburb_Doonside</th>\n",
       "      <th>Suburb_Narara</th>\n",
       "      <th>Bike_Hayabusa MY15 Road Manual 6sp</th>\n",
       "      <th>Suburb_Glenelg</th>\n",
       "      <th>Carburettor_Constant velocity</th>\n",
       "      <th>Model_959 panigale corse</th>\n",
       "      <th>Suburb_Camden south</th>\n",
       "      <th>Suburb_Gympie</th>\n",
       "    </tr>\n",
       "  </thead>\n",
       "  <tbody>\n",
       "    <tr>\n",
       "      <th>count</th>\n",
       "      <td>2.177000e+03</td>\n",
       "      <td>2.177000e+03</td>\n",
       "      <td>2.177000e+03</td>\n",
       "      <td>2.177000e+03</td>\n",
       "      <td>2.177000e+03</td>\n",
       "      <td>2.177000e+03</td>\n",
       "      <td>2.177000e+03</td>\n",
       "      <td>2.177000e+03</td>\n",
       "      <td>2.177000e+03</td>\n",
       "      <td>2.177000e+03</td>\n",
       "      <td>...</td>\n",
       "      <td>2.177000e+03</td>\n",
       "      <td>2.177000e+03</td>\n",
       "      <td>2.177000e+03</td>\n",
       "      <td>2.177000e+03</td>\n",
       "      <td>2.177000e+03</td>\n",
       "      <td>2.177000e+03</td>\n",
       "      <td>2.177000e+03</td>\n",
       "      <td>2.177000e+03</td>\n",
       "      <td>2.177000e+03</td>\n",
       "      <td>2.177000e+03</td>\n",
       "    </tr>\n",
       "    <tr>\n",
       "      <th>mean</th>\n",
       "      <td>-3.370033e-16</td>\n",
       "      <td>6.470511e-16</td>\n",
       "      <td>1.251232e-16</td>\n",
       "      <td>2.215856e-16</td>\n",
       "      <td>4.653457e-16</td>\n",
       "      <td>3.715161e-16</td>\n",
       "      <td>4.812571e-16</td>\n",
       "      <td>4.747294e-16</td>\n",
       "      <td>2.296433e-15</td>\n",
       "      <td>5.152248e-16</td>\n",
       "      <td>...</td>\n",
       "      <td>4.420907e-16</td>\n",
       "      <td>3.247606e-17</td>\n",
       "      <td>-4.239036e-16</td>\n",
       "      <td>1.059130e-16</td>\n",
       "      <td>2.438175e-16</td>\n",
       "      <td>2.136204e-16</td>\n",
       "      <td>-2.492979e-15</td>\n",
       "      <td>3.247606e-17</td>\n",
       "      <td>3.637580e-16</td>\n",
       "      <td>-1.971832e-16</td>\n",
       "    </tr>\n",
       "    <tr>\n",
       "      <th>std</th>\n",
       "      <td>1.000230e+00</td>\n",
       "      <td>1.000230e+00</td>\n",
       "      <td>1.000230e+00</td>\n",
       "      <td>1.000230e+00</td>\n",
       "      <td>1.000230e+00</td>\n",
       "      <td>1.000230e+00</td>\n",
       "      <td>1.000230e+00</td>\n",
       "      <td>1.000230e+00</td>\n",
       "      <td>1.000230e+00</td>\n",
       "      <td>1.000230e+00</td>\n",
       "      <td>...</td>\n",
       "      <td>1.000230e+00</td>\n",
       "      <td>1.000230e+00</td>\n",
       "      <td>1.000230e+00</td>\n",
       "      <td>1.000230e+00</td>\n",
       "      <td>1.000230e+00</td>\n",
       "      <td>1.000230e+00</td>\n",
       "      <td>1.000230e+00</td>\n",
       "      <td>1.000230e+00</td>\n",
       "      <td>1.000230e+00</td>\n",
       "      <td>1.000230e+00</td>\n",
       "    </tr>\n",
       "    <tr>\n",
       "      <th>min</th>\n",
       "      <td>-3.032392e-02</td>\n",
       "      <td>-3.032392e-02</td>\n",
       "      <td>-5.840625e+00</td>\n",
       "      <td>-2.468037e+00</td>\n",
       "      <td>-2.143732e-02</td>\n",
       "      <td>-2.143732e-02</td>\n",
       "      <td>-2.143732e-02</td>\n",
       "      <td>-2.143732e-02</td>\n",
       "      <td>-3.132308e+00</td>\n",
       "      <td>-6.073167e-02</td>\n",
       "      <td>...</td>\n",
       "      <td>-2.143732e-02</td>\n",
       "      <td>-2.143732e-02</td>\n",
       "      <td>-3.032392e-02</td>\n",
       "      <td>-2.143732e-02</td>\n",
       "      <td>-2.143732e-02</td>\n",
       "      <td>-2.143732e-02</td>\n",
       "      <td>-2.621613e-01</td>\n",
       "      <td>-2.143732e-02</td>\n",
       "      <td>-2.143732e-02</td>\n",
       "      <td>-3.714761e-02</td>\n",
       "    </tr>\n",
       "    <tr>\n",
       "      <th>25%</th>\n",
       "      <td>-3.032392e-02</td>\n",
       "      <td>-3.032392e-02</td>\n",
       "      <td>1.712145e-01</td>\n",
       "      <td>4.051804e-01</td>\n",
       "      <td>-2.143732e-02</td>\n",
       "      <td>-2.143732e-02</td>\n",
       "      <td>-2.143732e-02</td>\n",
       "      <td>-2.143732e-02</td>\n",
       "      <td>-5.550072e-01</td>\n",
       "      <td>-6.073167e-02</td>\n",
       "      <td>...</td>\n",
       "      <td>-2.143732e-02</td>\n",
       "      <td>-2.143732e-02</td>\n",
       "      <td>-3.032392e-02</td>\n",
       "      <td>-2.143732e-02</td>\n",
       "      <td>-2.143732e-02</td>\n",
       "      <td>-2.143732e-02</td>\n",
       "      <td>-2.621613e-01</td>\n",
       "      <td>-2.143732e-02</td>\n",
       "      <td>-2.143732e-02</td>\n",
       "      <td>-3.714761e-02</td>\n",
       "    </tr>\n",
       "    <tr>\n",
       "      <th>50%</th>\n",
       "      <td>-3.032392e-02</td>\n",
       "      <td>-3.032392e-02</td>\n",
       "      <td>1.712145e-01</td>\n",
       "      <td>4.051804e-01</td>\n",
       "      <td>-2.143732e-02</td>\n",
       "      <td>-2.143732e-02</td>\n",
       "      <td>-2.143732e-02</td>\n",
       "      <td>-2.143732e-02</td>\n",
       "      <td>-2.587657e-01</td>\n",
       "      <td>-6.073167e-02</td>\n",
       "      <td>...</td>\n",
       "      <td>-2.143732e-02</td>\n",
       "      <td>-2.143732e-02</td>\n",
       "      <td>-3.032392e-02</td>\n",
       "      <td>-2.143732e-02</td>\n",
       "      <td>-2.143732e-02</td>\n",
       "      <td>-2.143732e-02</td>\n",
       "      <td>-2.621613e-01</td>\n",
       "      <td>-2.143732e-02</td>\n",
       "      <td>-2.143732e-02</td>\n",
       "      <td>-3.714761e-02</td>\n",
       "    </tr>\n",
       "    <tr>\n",
       "      <th>75%</th>\n",
       "      <td>-3.032392e-02</td>\n",
       "      <td>-3.032392e-02</td>\n",
       "      <td>1.712145e-01</td>\n",
       "      <td>4.051804e-01</td>\n",
       "      <td>-2.143732e-02</td>\n",
       "      <td>-2.143732e-02</td>\n",
       "      <td>-2.143732e-02</td>\n",
       "      <td>-2.143732e-02</td>\n",
       "      <td>4.818381e-01</td>\n",
       "      <td>-6.073167e-02</td>\n",
       "      <td>...</td>\n",
       "      <td>-2.143732e-02</td>\n",
       "      <td>-2.143732e-02</td>\n",
       "      <td>-3.032392e-02</td>\n",
       "      <td>-2.143732e-02</td>\n",
       "      <td>-2.143732e-02</td>\n",
       "      <td>-2.143732e-02</td>\n",
       "      <td>-2.621613e-01</td>\n",
       "      <td>-2.143732e-02</td>\n",
       "      <td>-2.143732e-02</td>\n",
       "      <td>-3.714761e-02</td>\n",
       "    </tr>\n",
       "    <tr>\n",
       "      <th>max</th>\n",
       "      <td>3.297726e+01</td>\n",
       "      <td>3.297726e+01</td>\n",
       "      <td>1.712145e-01</td>\n",
       "      <td>4.051804e-01</td>\n",
       "      <td>4.664762e+01</td>\n",
       "      <td>4.664762e+01</td>\n",
       "      <td>4.664762e+01</td>\n",
       "      <td>4.664762e+01</td>\n",
       "      <td>3.888616e+00</td>\n",
       "      <td>1.646587e+01</td>\n",
       "      <td>...</td>\n",
       "      <td>4.664762e+01</td>\n",
       "      <td>4.664762e+01</td>\n",
       "      <td>3.297726e+01</td>\n",
       "      <td>4.664762e+01</td>\n",
       "      <td>4.664762e+01</td>\n",
       "      <td>4.664762e+01</td>\n",
       "      <td>3.814446e+00</td>\n",
       "      <td>4.664762e+01</td>\n",
       "      <td>4.664762e+01</td>\n",
       "      <td>2.691963e+01</td>\n",
       "    </tr>\n",
       "  </tbody>\n",
       "</table>\n",
       "<p>8 rows × 1528 columns</p>\n",
       "</div>"
      ],
      "text/plain": [
       "       Suburb_Narangba  Ignition_CD (Capacitor Discharge)  Wheel_Type_Spoke  \\\n",
       "count     2.177000e+03                       2.177000e+03      2.177000e+03   \n",
       "mean     -3.370033e-16                       6.470511e-16      1.251232e-16   \n",
       "std       1.000230e+00                       1.000230e+00      1.000230e+00   \n",
       "min      -3.032392e-02                      -3.032392e-02     -5.840625e+00   \n",
       "25%      -3.032392e-02                      -3.032392e-02      1.712145e-01   \n",
       "50%      -3.032392e-02                      -3.032392e-02      1.712145e-01   \n",
       "75%      -3.032392e-02                      -3.032392e-02      1.712145e-01   \n",
       "max       3.297726e+01                       3.297726e+01      1.712145e-01   \n",
       "\n",
       "       Charging_Method_Engine     Bike_MY09  Suburb_Mount sheridan  \\\n",
       "count            2.177000e+03  2.177000e+03           2.177000e+03   \n",
       "mean             2.215856e-16  4.653457e-16           3.715161e-16   \n",
       "std              1.000230e+00  1.000230e+00           1.000230e+00   \n",
       "min             -2.468037e+00 -2.143732e-02          -2.143732e-02   \n",
       "25%              4.051804e-01 -2.143732e-02          -2.143732e-02   \n",
       "50%              4.051804e-01 -2.143732e-02          -2.143732e-02   \n",
       "75%              4.051804e-01 -2.143732e-02          -2.143732e-02   \n",
       "max              4.051804e-01  4.664762e+01           4.664762e+01   \n",
       "\n",
       "       Suburb_Piara waters  Suburb_Highton        Length  \\\n",
       "count         2.177000e+03    2.177000e+03  2.177000e+03   \n",
       "mean          4.812571e-16    4.747294e-16  2.296433e-15   \n",
       "std           1.000230e+00    1.000230e+00  1.000230e+00   \n",
       "min          -2.143732e-02   -2.143732e-02 -3.132308e+00   \n",
       "25%          -2.143732e-02   -2.143732e-02 -5.550072e-01   \n",
       "50%          -2.143732e-02   -2.143732e-02 -2.587657e-01   \n",
       "75%          -2.143732e-02   -2.143732e-02  4.818381e-01   \n",
       "max           4.664762e+01    4.664762e+01  3.888616e+00   \n",
       "\n",
       "       Model_Gsx r1000 30th anniversary edition  ...  Suburb_Stirling  \\\n",
       "count                              2.177000e+03  ...     2.177000e+03   \n",
       "mean                               5.152248e-16  ...     4.420907e-16   \n",
       "std                                1.000230e+00  ...     1.000230e+00   \n",
       "min                               -6.073167e-02  ...    -2.143732e-02   \n",
       "25%                               -6.073167e-02  ...    -2.143732e-02   \n",
       "50%                               -6.073167e-02  ...    -2.143732e-02   \n",
       "75%                               -6.073167e-02  ...    -2.143732e-02   \n",
       "max                                1.646587e+01  ...     4.664762e+01   \n",
       "\n",
       "       Model_f3 675 eas  Suburb_Doonside  Suburb_Narara  \\\n",
       "count      2.177000e+03     2.177000e+03   2.177000e+03   \n",
       "mean       3.247606e-17    -4.239036e-16   1.059130e-16   \n",
       "std        1.000230e+00     1.000230e+00   1.000230e+00   \n",
       "min       -2.143732e-02    -3.032392e-02  -2.143732e-02   \n",
       "25%       -2.143732e-02    -3.032392e-02  -2.143732e-02   \n",
       "50%       -2.143732e-02    -3.032392e-02  -2.143732e-02   \n",
       "75%       -2.143732e-02    -3.032392e-02  -2.143732e-02   \n",
       "max        4.664762e+01     3.297726e+01   4.664762e+01   \n",
       "\n",
       "       Bike_Hayabusa MY15 Road Manual 6sp  Suburb_Glenelg  \\\n",
       "count                        2.177000e+03    2.177000e+03   \n",
       "mean                         2.438175e-16    2.136204e-16   \n",
       "std                          1.000230e+00    1.000230e+00   \n",
       "min                         -2.143732e-02   -2.143732e-02   \n",
       "25%                         -2.143732e-02   -2.143732e-02   \n",
       "50%                         -2.143732e-02   -2.143732e-02   \n",
       "75%                         -2.143732e-02   -2.143732e-02   \n",
       "max                          4.664762e+01    4.664762e+01   \n",
       "\n",
       "       Carburettor_Constant velocity  Model_959 panigale corse  \\\n",
       "count                   2.177000e+03              2.177000e+03   \n",
       "mean                   -2.492979e-15              3.247606e-17   \n",
       "std                     1.000230e+00              1.000230e+00   \n",
       "min                    -2.621613e-01             -2.143732e-02   \n",
       "25%                    -2.621613e-01             -2.143732e-02   \n",
       "50%                    -2.621613e-01             -2.143732e-02   \n",
       "75%                    -2.621613e-01             -2.143732e-02   \n",
       "max                     3.814446e+00              4.664762e+01   \n",
       "\n",
       "       Suburb_Camden south  Suburb_Gympie  \n",
       "count         2.177000e+03   2.177000e+03  \n",
       "mean          3.637580e-16  -1.971832e-16  \n",
       "std           1.000230e+00   1.000230e+00  \n",
       "min          -2.143732e-02  -3.714761e-02  \n",
       "25%          -2.143732e-02  -3.714761e-02  \n",
       "50%          -2.143732e-02  -3.714761e-02  \n",
       "75%          -2.143732e-02  -3.714761e-02  \n",
       "max           4.664762e+01   2.691963e+01  \n",
       "\n",
       "[8 rows x 1528 columns]"
      ]
     },
     "execution_count": 241,
     "metadata": {},
     "output_type": "execute_result"
    }
   ],
   "source": [
    "scaleSport.describe()"
   ]
  },
  {
   "cell_type": "code",
   "execution_count": 304,
   "metadata": {
    "hideCode": false,
    "hidePrompt": false
   },
   "outputs": [],
   "source": [
    "\n",
    "\n",
    "def adjusted_r2(r2, n, k):\n",
    "    return 1 - (1-r2)*((n-1)/(n-k-1)) \n",
    "\n",
    "\n",
    "\n",
    "def run_model(df, features, y):\n",
    "\n",
    "    X = df[list(set(df.select_dtypes(include='number').columns) - set('Price'))]\n",
    "\n",
    "    X_train, X_test, y_train, y_test = train_test_split(X, y, random_state=1, test_size=0.3)\n",
    "\n",
    "\n",
    "    models = []\n",
    "\n",
    "    models.append((\"LassoCV\",LassoCV(cv=5)))\n",
    "    models.append((\"LinearRegression\",LinearRegression()))\n",
    "    models.append((\"PassiveAggressiveRegressor\",PassiveAggressiveRegressor()))\n",
    "    models.append((\"RidgeCV\",RidgeCV(cv=5)))\n",
    "    models.append((\"Bagging\",BaggingRegressor()))\n",
    "    models.append((\"SVR\",SVR()))\n",
    "\n",
    "    results = []\n",
    "    names = []\n",
    "    n,k = X_train[features].shape\n",
    "\n",
    "    for name, model in models:\n",
    "        score = cross_val_score(model, X_train[features], y_train,  cv=5)\n",
    "        \n",
    "        result = adjusted_r2(score,n,k)\n",
    "        #result = score\n",
    "        names.append(name)\n",
    "        results.append(result)\n",
    "\n",
    "    for i in range(len(names)):\n",
    "        print(names[i],results[i].mean())\n",
    "    \n",
    "\n",
    "    "
   ]
  },
  {
   "cell_type": "code",
   "execution_count": 305,
   "metadata": {
    "hideCode": false,
    "hidePrompt": false
   },
   "outputs": [],
   "source": [
    "bike_cols = [col for col in sport_df.columns if 'Bike' in col]\n",
    "brand_cols = [col for col in sport_df.columns if 'Brand' in col]\n",
    "model_cols = [col for col in sport_df.columns if 'Model' in col]\n",
    "niave_feature = ['Kilometers','Age']"
   ]
  },
  {
   "cell_type": "code",
   "execution_count": 306,
   "metadata": {
    "hideCode": false,
    "hidePrompt": false
   },
   "outputs": [
    {
     "name": "stdout",
     "output_type": "stream",
     "text": [
      "LassoCV 0.1185087340344354\n",
      "LinearRegression 0.11836931821897174\n",
      "PassiveAggressiveRegressor -0.530863208437055\n",
      "RidgeCV 0.11844737323478102\n",
      "Bagging -0.08238117913510049\n",
      "SVR -0.06892048392011726\n"
     ]
    }
   ],
   "source": [
    "run_model(scaleSport, niave_feature, sport_df[target])"
   ]
  },
  {
   "cell_type": "code",
   "execution_count": null,
   "metadata": {
    "hideCode": false,
    "hidePrompt": false
   },
   "outputs": [],
   "source": []
  },
  {
   "cell_type": "code",
   "execution_count": 307,
   "metadata": {
    "hideCode": false,
    "hidePrompt": false
   },
   "outputs": [
    {
     "name": "stdout",
     "output_type": "stream",
     "text": [
      "LassoCV 0.10659508568465766\n",
      "LinearRegression 0.11836931821897174\n",
      "PassiveAggressiveRegressor -313.164473625062\n",
      "RidgeCV 0.11836943248238559\n",
      "Bagging -0.04921028795231179\n",
      "SVR -0.07567681131078752\n"
     ]
    }
   ],
   "source": [
    "run_model(sport_df, niave_feature, sport_df[target])"
   ]
  },
  {
   "cell_type": "code",
   "execution_count": 308,
   "metadata": {
    "hideCode": false,
    "hidePrompt": false
   },
   "outputs": [
    {
     "name": "stdout",
     "output_type": "stream",
     "text": [
      "LassoCV 0.6348034796661292\n",
      "LinearRegression -2.7493034253135966e+28\n",
      "PassiveAggressiveRegressor -1.0704849527844555\n",
      "RidgeCV 0.640915465242176\n",
      "Bagging 0.5599956731601908\n",
      "SVR -0.3126528181612546\n"
     ]
    }
   ],
   "source": [
    "run_model(scaleSport, bike_cols, sport_df[target])"
   ]
  },
  {
   "cell_type": "code",
   "execution_count": 309,
   "metadata": {
    "hideCode": false,
    "hidePrompt": false
   },
   "outputs": [
    {
     "name": "stdout",
     "output_type": "stream",
     "text": [
      "LassoCV 0.6527430085006972\n",
      "LinearRegression -6.517380030876856e+25\n",
      "PassiveAggressiveRegressor -0.9063974630874194\n",
      "RidgeCV 0.6633109715460093\n",
      "Bagging 0.5444618514928568\n",
      "SVR -0.3158494085053592\n"
     ]
    }
   ],
   "source": [
    "run_model(sport_df, bike_cols, sport_df[target])"
   ]
  },
  {
   "cell_type": "code",
   "execution_count": 310,
   "metadata": {
    "hideCode": false,
    "hidePrompt": false
   },
   "outputs": [
    {
     "name": "stdout",
     "output_type": "stream",
     "text": [
      "LassoCV 0.3338953832879727\n",
      "LinearRegression -1.447899679353543e+24\n",
      "PassiveAggressiveRegressor -0.48185831655609\n",
      "RidgeCV 0.33407548060304787\n",
      "Bagging 0.3317398487470652\n",
      "SVR -0.07456256793261859\n"
     ]
    }
   ],
   "source": [
    "run_model(scaleSport, brand_cols, sport_df[target])"
   ]
  },
  {
   "cell_type": "code",
   "execution_count": 311,
   "metadata": {
    "hideCode": false,
    "hidePrompt": false
   },
   "outputs": [
    {
     "name": "stdout",
     "output_type": "stream",
     "text": [
      "LassoCV 0.3338499953014685\n",
      "LinearRegression 0.332506425244157\n",
      "PassiveAggressiveRegressor -0.5253408797304886\n",
      "RidgeCV 0.3335454784888894\n",
      "Bagging 0.3313655848847777\n",
      "SVR -0.08147945702640542\n"
     ]
    }
   ],
   "source": [
    "run_model(sport_df, brand_cols, sport_df[target])"
   ]
  },
  {
   "cell_type": "code",
   "execution_count": 312,
   "metadata": {
    "hideCode": false,
    "hidePrompt": false
   },
   "outputs": [
    {
     "name": "stdout",
     "output_type": "stream",
     "text": [
      "LassoCV 0.6874664094838338\n",
      "LinearRegression -4.3021093995956805e+28\n",
      "PassiveAggressiveRegressor -0.7241671305504376\n",
      "RidgeCV 0.6841688860065445\n",
      "Bagging 0.6791385828143695\n",
      "SVR -0.19052788578467772\n"
     ]
    }
   ],
   "source": [
    "run_model(scaleSport, model_cols, sport_df[target])"
   ]
  },
  {
   "cell_type": "code",
   "execution_count": 313,
   "metadata": {
    "hideCode": false,
    "hidePrompt": false
   },
   "outputs": [
    {
     "name": "stdout",
     "output_type": "stream",
     "text": [
      "LassoCV 0.6984033488409661\n",
      "LinearRegression -1.8484036676313724e+25\n",
      "PassiveAggressiveRegressor -0.7219961344322728\n",
      "RidgeCV 0.7059336880391378\n",
      "Bagging 0.6806762369468977\n",
      "SVR -0.19557470221266654\n"
     ]
    }
   ],
   "source": [
    "run_model(sport_df, model_cols, sport_df[target])"
   ]
  },
  {
   "cell_type": "code",
   "execution_count": null,
   "metadata": {
    "hideCode": false,
    "hidePrompt": false
   },
   "outputs": [],
   "source": []
  },
  {
   "cell_type": "code",
   "execution_count": null,
   "metadata": {
    "hideCode": false,
    "hidePrompt": false
   },
   "outputs": [],
   "source": []
  },
  {
   "cell_type": "code",
   "execution_count": null,
   "metadata": {
    "hideCode": false,
    "hidePrompt": false
   },
   "outputs": [],
   "source": []
  },
  {
   "cell_type": "code",
   "execution_count": null,
   "metadata": {
    "hideCode": false,
    "hidePrompt": false
   },
   "outputs": [],
   "source": []
  },
  {
   "cell_type": "code",
   "execution_count": 316,
   "metadata": {
    "hideCode": false,
    "hidePrompt": false
   },
   "outputs": [],
   "source": [
    "model = LassoCV(cv=5)\n",
    "\n",
    "X_train, X_test, y_train, y_test = train_test_split(sport_df[features], sport_df['Price'],\n",
    "                                                    random_state=1, test_size=0.3)\n",
    "\n",
    "#result = cross_val_score(model, scaleSport[model_cols], sport_df['Price'], cv=5, scoring='r2')\n",
    "result = cross_val_score(model, X_train[model_cols], y_train, cv=5, scoring='r2')\n"
   ]
  },
  {
   "cell_type": "code",
   "execution_count": 317,
   "metadata": {
    "hideCode": false,
    "hidePrompt": false
   },
   "outputs": [
    {
     "data": {
      "text/plain": [
       "array([0.70677266, 0.71817067, 0.75569295, 0.71324791, 0.7507143 ])"
      ]
     },
     "execution_count": 317,
     "metadata": {},
     "output_type": "execute_result"
    }
   ],
   "source": [
    "result\n"
   ]
  },
  {
   "cell_type": "code",
   "execution_count": 321,
   "metadata": {
    "hideCode": false,
    "hidePrompt": false
   },
   "outputs": [
    {
     "name": "stdout",
     "output_type": "stream",
     "text": [
      "Training: R2: 0.706419255150665\n",
      "Training: adjusted R2 1.219095115870418\n",
      "Testing: R2: 0.680765496934826\n",
      "Testing: adjusted R2 1.2382401491446384\n",
      "mean_squared_error: 12014464.15790585\n"
     ]
    }
   ],
   "source": [
    "\n",
    "def run_LinearModel(X_train, X_test, y_train, y_test):\n",
    "    model = LinearRegression()\n",
    "    model.fit(X_train, y_train)\n",
    "    pred = model.predict(X_test)\n",
    "\n",
    "    n, k = X_test.shape\n",
    "\n",
    "    r2 = model.score(X_train,y_train)\n",
    "    print ('Training: R2:',r2)\n",
    "    print ('Training: adjusted R2',adjusted_r2(r2, n, k))\n",
    "\n",
    "    r2 = model.score(X_test,y_test)\n",
    "    print ('Testing: R2:',r2)\n",
    "    print ('Testing: adjusted R2',adjusted_r2(r2, n, k))\n",
    "    print ('mean_squared_error:',mean_squared_error(y_test,pred))\n",
    "    \n",
    "    return model, pred\n",
    "\n",
    "\n",
    "def run_LassoCV(X_train, X_test, y_train, y_test,cv=5):\n",
    "    model = LassoCV(cv=cv) \n",
    "    model.fit(X_train, y_train)\n",
    "    pred = model.predict(X_test)\n",
    "\n",
    "    n, k = X_test.shape\n",
    "\n",
    "    r2 = model.score(X_train,y_train)\n",
    "    print ('Training: R2:',r2)\n",
    "    print ('Training: adjusted R2',adjusted_r2(r2, n, k))\n",
    "\n",
    "    r2 = model.score(X_test,y_test)\n",
    "    print ('Testing: R2:',r2)\n",
    "    print ('Testing: adjusted R2',adjusted_r2(r2, n, k))\n",
    "    print ('mean_squared_error:',mean_squared_error(y_test,pred))\n",
    "    \n",
    "    return model, pred\n",
    "\n",
    "\n",
    "model, predictions = run_LassoCV(X_train, X_test, y_train, y_test)\n",
    "\n"
   ]
  },
  {
   "cell_type": "markdown",
   "metadata": {
    "hideCode": false,
    "hidePrompt": false
   },
   "source": [
    "# Determine which bikes are a good deal\n",
    "\n",
    "This will be the bikes that have an advertised price lower than the predicted price. The determination of a good deal or not will be based on a threshold of the ratio of the advertised price to the predicted price."
   ]
  },
  {
   "cell_type": "code",
   "execution_count": 323,
   "metadata": {
    "hideCode": false,
    "hidePrompt": false
   },
   "outputs": [],
   "source": [
    "model.fit(sport_df[features], sport_df['Price'])\n",
    "sport_df['Predicted_Price'] = model.predict(sport_df[features])\n",
    "\n"
   ]
  },
  {
   "cell_type": "code",
   "execution_count": 324,
   "metadata": {
    "hideCode": false,
    "hidePrompt": false
   },
   "outputs": [
    {
     "data": {
      "text/html": [
       "<div>\n",
       "<style scoped>\n",
       "    .dataframe tbody tr th:only-of-type {\n",
       "        vertical-align: middle;\n",
       "    }\n",
       "\n",
       "    .dataframe tbody tr th {\n",
       "        vertical-align: top;\n",
       "    }\n",
       "\n",
       "    .dataframe thead th {\n",
       "        text-align: right;\n",
       "    }\n",
       "</style>\n",
       "<table border=\"1\" class=\"dataframe\">\n",
       "  <thead>\n",
       "    <tr style=\"text-align: right;\">\n",
       "      <th></th>\n",
       "      <th>Price</th>\n",
       "      <th>Predicted_Price</th>\n",
       "    </tr>\n",
       "  </thead>\n",
       "  <tbody>\n",
       "    <tr>\n",
       "      <th>0</th>\n",
       "      <td>1500.0</td>\n",
       "      <td>-1719.187941</td>\n",
       "    </tr>\n",
       "    <tr>\n",
       "      <th>1</th>\n",
       "      <td>1700.0</td>\n",
       "      <td>2056.228071</td>\n",
       "    </tr>\n",
       "    <tr>\n",
       "      <th>2</th>\n",
       "      <td>1900.0</td>\n",
       "      <td>-3779.143691</td>\n",
       "    </tr>\n",
       "    <tr>\n",
       "      <th>3</th>\n",
       "      <td>1990.0</td>\n",
       "      <td>-1130.815868</td>\n",
       "    </tr>\n",
       "    <tr>\n",
       "      <th>4</th>\n",
       "      <td>1999.0</td>\n",
       "      <td>133.180327</td>\n",
       "    </tr>\n",
       "  </tbody>\n",
       "</table>\n",
       "</div>"
      ],
      "text/plain": [
       "    Price  Predicted_Price\n",
       "0  1500.0     -1719.187941\n",
       "1  1700.0      2056.228071\n",
       "2  1900.0     -3779.143691\n",
       "3  1990.0     -1130.815868\n",
       "4  1999.0       133.180327"
      ]
     },
     "execution_count": 324,
     "metadata": {},
     "output_type": "execute_result"
    }
   ],
   "source": [
    "# Tranasform the values back to standard meaning\n",
    "sport_df[['Price','Predicted_Price']].head()"
   ]
  },
  {
   "cell_type": "code",
   "execution_count": 325,
   "metadata": {
    "hideCode": false,
    "hidePrompt": false
   },
   "outputs": [
    {
     "data": {
      "image/png": "[encoded data removed]",
      "text/plain": [
       "<Figure size 864x720 with 1 Axes>"
      ]
     },
     "metadata": {},
     "output_type": "display_data"
    }
   ],
   "source": [
    "def plot_predictions(y_test,pred):\n",
    "    fig, ax = plt.subplots(figsize=(12,10))\n",
    "    ax.scatter(y_test,pred)\n",
    "    ax.plot([y_test.min(), y_test.max()], [y_test.min(), y_test.max()], 'r--', lw=0.8)\n",
    "    ax.set_xlabel('Measured');\n",
    "    ax.set_ylabel('Predicted');\n",
    "    ax.set_title('Accuracy of Predictions');\n",
    "    #ax.set_ylim(0,y_test.max());\n",
    "    \n",
    "plot_predictions(sport_df['Price'],sport_df['Predicted_Price'])"
   ]
  },
  {
   "cell_type": "code",
   "execution_count": 326,
   "metadata": {
    "hideCode": false,
    "hidePrompt": false
   },
   "outputs": [],
   "source": [
    "sport_df['Price_ratio'] = sport_df['Price'] / sport_df['Predicted_Price']\n",
    "\n",
    "sport_df['Deal_type'] = 'Dont Bother'\n",
    "sport_df['Deal_type'][sport_df['Price_ratio'] > 1.1] = 'Negotiate'\n",
    "sport_df['Deal_type'][sport_df['Price_ratio'] > 1.2] = 'Good Deal'\n",
    "sport_df['Deal_type'][sport_df['Price_ratio'] > 1.5] = 'Great Deal'\n",
    "sport_df['Deal_type'][sport_df['Price_ratio'] > 2] = 'Its a steel'\n",
    "\n",
    "\n"
   ]
  },
  {
   "cell_type": "code",
   "execution_count": 328,
   "metadata": {
    "hideCode": false,
    "hidePrompt": false
   },
   "outputs": [],
   "source": [
    "def scatter(data,x,y,hue=None,title='',figsize=(12,10)):\n",
    "    ax = plt.figure(figsize=figsize)\n",
    "    sns.scatterplot(x=x,y=y,hue=hue,data=data);\n",
    "    plt.title(title,fontsize=14)\n",
    "    plt.legend(bbox_to_anchor=(1.05, 1), loc=2, borderaxespad=0.)\n",
    "    #plt.ylim(0,40000)\n"
   ]
  },
  {
   "cell_type": "code",
   "execution_count": 329,
   "metadata": {
    "hideCode": false,
    "hidePrompt": false
   },
   "outputs": [
    {
     "data": {
      "image/png": "[encoded data removed]",
      "text/plain": [
       "<Figure size 864x720 with 1 Axes>"
      ]
     },
     "metadata": {},
     "output_type": "display_data"
    }
   ],
   "source": [
    "scatter(sport_df,'Price','Predicted_Price',hue='Deal_type',title='Great Deals on Motorbikes')\n"
   ]
  },
  {
   "cell_type": "code",
   "execution_count": 228,
   "metadata": {
    "hideCode": false,
    "hidePrompt": false
   },
   "outputs": [],
   "source": [
    "outliers = sport_df[(sport_df['Predicted_Price'] > 40000) | (sport_df['Predicted_Price'] < 0)]\n"
   ]
  },
  {
   "cell_type": "code",
   "execution_count": 229,
   "metadata": {
    "hideCode": false,
    "hideOutput": true,
    "hidePrompt": false
   },
   "outputs": [
    {
     "data": {
      "text/html": [
       "<div>\n",
       "<style scoped>\n",
       "    .dataframe tbody tr th:only-of-type {\n",
       "        vertical-align: middle;\n",
       "    }\n",
       "\n",
       "    .dataframe tbody tr th {\n",
       "        vertical-align: top;\n",
       "    }\n",
       "\n",
       "    .dataframe thead th {\n",
       "        text-align: right;\n",
       "    }\n",
       "</style>\n",
       "<table border=\"1\" class=\"dataframe\">\n",
       "  <thead>\n",
       "    <tr style=\"text-align: right;\">\n",
       "      <th></th>\n",
       "      <th>Bore</th>\n",
       "      <th>Carburettor(s)</th>\n",
       "      <th>Compression_Ratio</th>\n",
       "      <th>Cylinders</th>\n",
       "      <th>Dry_Weight</th>\n",
       "      <th>Engine_Description</th>\n",
       "      <th>Front_Brake_Diameter</th>\n",
       "      <th>Front_Suspension_Travel</th>\n",
       "      <th>Fuel_Reserve_Capacity</th>\n",
       "      <th>Fuel_Tank_Capacity</th>\n",
       "      <th>...</th>\n",
       "      <th>Model_f4 312 r 1000 11</th>\n",
       "      <th>Model_f4 750 s</th>\n",
       "      <th>Model_f4 750 s f4s 11</th>\n",
       "      <th>Model_f4 r</th>\n",
       "      <th>Model_f4 rr</th>\n",
       "      <th>Model_f4 rr 1000</th>\n",
       "      <th>Model_f4ago 1000</th>\n",
       "      <th>Predicted_Price</th>\n",
       "      <th>Price_ratio</th>\n",
       "      <th>Deal_type</th>\n",
       "    </tr>\n",
       "  </thead>\n",
       "  <tbody>\n",
       "    <tr>\n",
       "      <th>9</th>\n",
       "      <td>57.0</td>\n",
       "      <td>1.0</td>\n",
       "      <td>10.000000</td>\n",
       "      <td>1.0</td>\n",
       "      <td>123.0</td>\n",
       "      <td>150.0</td>\n",
       "      <td>290.43605</td>\n",
       "      <td>158.312257</td>\n",
       "      <td>3.459387</td>\n",
       "      <td>12.0</td>\n",
       "      <td>...</td>\n",
       "      <td>0</td>\n",
       "      <td>0</td>\n",
       "      <td>0</td>\n",
       "      <td>0</td>\n",
       "      <td>0</td>\n",
       "      <td>0</td>\n",
       "      <td>0</td>\n",
       "      <td>-6.160000e+02</td>\n",
       "      <td>-3.246753e+00</td>\n",
       "      <td>Dont Bother</td>\n",
       "    </tr>\n",
       "    <tr>\n",
       "      <th>176</th>\n",
       "      <td>81.5</td>\n",
       "      <td>1.0</td>\n",
       "      <td>11.000000</td>\n",
       "      <td>2.0</td>\n",
       "      <td>200.0</td>\n",
       "      <td>650.0</td>\n",
       "      <td>300.00000</td>\n",
       "      <td>158.312257</td>\n",
       "      <td>3.459387</td>\n",
       "      <td>17.0</td>\n",
       "      <td>...</td>\n",
       "      <td>0</td>\n",
       "      <td>0</td>\n",
       "      <td>0</td>\n",
       "      <td>0</td>\n",
       "      <td>0</td>\n",
       "      <td>0</td>\n",
       "      <td>0</td>\n",
       "      <td>2.496419e+18</td>\n",
       "      <td>1.522181e-15</td>\n",
       "      <td>Dont Bother</td>\n",
       "    </tr>\n",
       "    <tr>\n",
       "      <th>351</th>\n",
       "      <td>97.0</td>\n",
       "      <td>1.0</td>\n",
       "      <td>11.000000</td>\n",
       "      <td>2.0</td>\n",
       "      <td>275.0</td>\n",
       "      <td>1000.0</td>\n",
       "      <td>320.00000</td>\n",
       "      <td>120.000000</td>\n",
       "      <td>4.000000</td>\n",
       "      <td>20.0</td>\n",
       "      <td>...</td>\n",
       "      <td>0</td>\n",
       "      <td>0</td>\n",
       "      <td>0</td>\n",
       "      <td>0</td>\n",
       "      <td>0</td>\n",
       "      <td>0</td>\n",
       "      <td>0</td>\n",
       "      <td>7.987703e+17</td>\n",
       "      <td>6.258370e-15</td>\n",
       "      <td>Dont Bother</td>\n",
       "    </tr>\n",
       "    <tr>\n",
       "      <th>421</th>\n",
       "      <td>97.0</td>\n",
       "      <td>1.0</td>\n",
       "      <td>11.000000</td>\n",
       "      <td>2.0</td>\n",
       "      <td>275.0</td>\n",
       "      <td>1000.0</td>\n",
       "      <td>320.00000</td>\n",
       "      <td>120.000000</td>\n",
       "      <td>4.000000</td>\n",
       "      <td>20.0</td>\n",
       "      <td>...</td>\n",
       "      <td>0</td>\n",
       "      <td>0</td>\n",
       "      <td>0</td>\n",
       "      <td>0</td>\n",
       "      <td>0</td>\n",
       "      <td>0</td>\n",
       "      <td>0</td>\n",
       "      <td>7.987703e+17</td>\n",
       "      <td>6.885584e-15</td>\n",
       "      <td>Dont Bother</td>\n",
       "    </tr>\n",
       "    <tr>\n",
       "      <th>563</th>\n",
       "      <td>53.5</td>\n",
       "      <td>2.0</td>\n",
       "      <td>10.463877</td>\n",
       "      <td>2.0</td>\n",
       "      <td>129.0</td>\n",
       "      <td>250.0</td>\n",
       "      <td>290.43605</td>\n",
       "      <td>158.312257</td>\n",
       "      <td>3.459387</td>\n",
       "      <td>15.0</td>\n",
       "      <td>...</td>\n",
       "      <td>0</td>\n",
       "      <td>0</td>\n",
       "      <td>0</td>\n",
       "      <td>0</td>\n",
       "      <td>0</td>\n",
       "      <td>0</td>\n",
       "      <td>0</td>\n",
       "      <td>2.017931e+17</td>\n",
       "      <td>3.434210e-14</td>\n",
       "      <td>Dont Bother</td>\n",
       "    </tr>\n",
       "  </tbody>\n",
       "</table>\n",
       "<p>5 rows × 1532 columns</p>\n",
       "</div>"
      ],
      "text/plain": [
       "     Bore  Carburettor(s)  Compression_Ratio  Cylinders  Dry_Weight  \\\n",
       "9    57.0             1.0          10.000000        1.0       123.0   \n",
       "176  81.5             1.0          11.000000        2.0       200.0   \n",
       "351  97.0             1.0          11.000000        2.0       275.0   \n",
       "421  97.0             1.0          11.000000        2.0       275.0   \n",
       "563  53.5             2.0          10.463877        2.0       129.0   \n",
       "\n",
       "     Engine_Description  Front_Brake_Diameter  Front_Suspension_Travel  \\\n",
       "9                 150.0             290.43605               158.312257   \n",
       "176               650.0             300.00000               158.312257   \n",
       "351              1000.0             320.00000               120.000000   \n",
       "421              1000.0             320.00000               120.000000   \n",
       "563               250.0             290.43605               158.312257   \n",
       "\n",
       "     Fuel_Reserve_Capacity  Fuel_Tank_Capacity  ...  Model_f4 312 r 1000 11  \\\n",
       "9                 3.459387                12.0  ...                       0   \n",
       "176               3.459387                17.0  ...                       0   \n",
       "351               4.000000                20.0  ...                       0   \n",
       "421               4.000000                20.0  ...                       0   \n",
       "563               3.459387                15.0  ...                       0   \n",
       "\n",
       "     Model_f4 750 s  Model_f4 750 s f4s 11  Model_f4 r  Model_f4 rr  \\\n",
       "9                 0                      0           0            0   \n",
       "176               0                      0           0            0   \n",
       "351               0                      0           0            0   \n",
       "421               0                      0           0            0   \n",
       "563               0                      0           0            0   \n",
       "\n",
       "     Model_f4 rr 1000  Model_f4ago 1000  Predicted_Price   Price_ratio  \\\n",
       "9                   0                 0    -6.160000e+02 -3.246753e+00   \n",
       "176                 0                 0     2.496419e+18  1.522181e-15   \n",
       "351                 0                 0     7.987703e+17  6.258370e-15   \n",
       "421                 0                 0     7.987703e+17  6.885584e-15   \n",
       "563                 0                 0     2.017931e+17  3.434210e-14   \n",
       "\n",
       "       Deal_type  \n",
       "9    Dont Bother  \n",
       "176  Dont Bother  \n",
       "351  Dont Bother  \n",
       "421  Dont Bother  \n",
       "563  Dont Bother  \n",
       "\n",
       "[5 rows x 1532 columns]"
      ]
     },
     "execution_count": 229,
     "metadata": {},
     "output_type": "execute_result"
    }
   ],
   "source": [
    "outliers[]"
   ]
  },
  {
   "cell_type": "code",
   "execution_count": null,
   "metadata": {
    "hideCode": false,
    "hidePrompt": false
   },
   "outputs": [],
   "source": []
  },
  {
   "cell_type": "code",
   "execution_count": null,
   "metadata": {
    "hideCode": false,
    "hidePrompt": false
   },
   "outputs": [],
   "source": []
  }
 ],
 "metadata": {
  "hide_code_all_hidden": false,
  "kernelspec": {
   "display_name": "Python 3",
   "language": "python",
   "name": "python3"
  },
  "language_info": {
   "codemirror_mode": {
    "name": "ipython",
    "version": 3
   },
   "file_extension": ".py",
   "mimetype": "text/x-python",
   "name": "python",
   "nbconvert_exporter": "python",
   "pygments_lexer": "ipython3",
   "version": "3.7.3"
  }
 },
 "nbformat": 4,
 "nbformat_minor": 2
}
